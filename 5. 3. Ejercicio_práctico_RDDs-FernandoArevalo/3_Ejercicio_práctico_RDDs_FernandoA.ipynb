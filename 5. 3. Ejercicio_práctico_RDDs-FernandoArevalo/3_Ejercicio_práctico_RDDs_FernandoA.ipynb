{
  "cells": [
    {
      "cell_type": "markdown",
      "source": [
        "Alumno: Fernando Arturo Arevalo Perez-  \n",
        "Numero de Alumno: 323018942  \n",
        "5. 3. Ejercicio_práctico_RDDs"
      ],
      "metadata": {
        "id": "ZMeOhf5by5Og"
      }
    },
    {
      "cell_type": "markdown",
      "metadata": {
        "id": "8AAd621NyyWZ"
      },
      "source": [
        "# Ejercicio Práctico RDDs"
      ]
    },
    {
      "cell_type": "code",
      "source": [
        "#pip install spark"
      ],
      "metadata": {
        "id": "wjPKD3l6zD28"
      },
      "execution_count": 4,
      "outputs": []
    },
    {
      "cell_type": "code",
      "source": [
        "#pip install findspark"
      ],
      "metadata": {
        "id": "yVMy977TzKXY"
      },
      "execution_count": 8,
      "outputs": []
    },
    {
      "cell_type": "code",
      "source": [
        "#pip install pyspark"
      ],
      "metadata": {
        "id": "PIhJxyEJznGt"
      },
      "execution_count": 10,
      "outputs": []
    },
    {
      "cell_type": "code",
      "execution_count": 11,
      "metadata": {
        "id": "0CCXxFwqyyWd"
      },
      "outputs": [],
      "source": [
        "import findspark\n",
        "findspark.init()\n",
        "\n",
        "import pandas as pd\n",
        "import pyspark\n",
        "from pyspark.sql import SparkSession"
      ]
    },
    {
      "cell_type": "code",
      "execution_count": 12,
      "metadata": {
        "id": "SYQgoUedyyWf"
      },
      "outputs": [],
      "source": [
        "#Crea un contexto Spark\n",
        "spark = SparkSession.builder.getOrCreate()\n",
        "sc = spark.sparkContext"
      ]
    },
    {
      "cell_type": "code",
      "execution_count": 14,
      "metadata": {
        "id": "dwSmSS1kyyWg"
      },
      "outputs": [],
      "source": [
        "## Genera un RDD (new RDD) con la siguiente lista [1, 2, 3, 4, 5]\n",
        "rdd = sc.parallelize([1, 2, 3, 4, 5])"
      ]
    },
    {
      "cell_type": "code",
      "execution_count": 15,
      "metadata": {
        "colab": {
          "base_uri": "https://localhost:8080/"
        },
        "id": "wxvhBdODyyWh",
        "outputId": "b8faa211-b9cd-42be-9c46-f5ddcfbad970"
      },
      "outputs": [
        {
          "output_type": "stream",
          "name": "stdout",
          "text": [
            "[2, 4, 6, 8, 10]\n"
          ]
        }
      ],
      "source": [
        "## Multiplica por 2 todos los elementos del RDD anterior\n",
        "rdd_multiplicado = rdd.map(lambda x: x * 2)\n",
        "print(rdd_multiplicado.collect())"
      ]
    },
    {
      "cell_type": "code",
      "execution_count": 16,
      "metadata": {
        "id": "vfHrZ8ACyyWi"
      },
      "outputs": [],
      "source": [
        "data = [1, 2, 3, 4, 5, 6]\n",
        "myRDD= sc.parallelize(data)"
      ]
    },
    {
      "cell_type": "code",
      "execution_count": 17,
      "metadata": {
        "colab": {
          "base_uri": "https://localhost:8080/"
        },
        "id": "qmvZpqdZyyWj",
        "outputId": "63a91ff8-5133-4802-a8ac-84804ec3cbbc"
      },
      "outputs": [
        {
          "output_type": "stream",
          "name": "stdout",
          "text": [
            "[2, 4, 6]\n"
          ]
        }
      ],
      "source": [
        "## Filtra el RDD anterior por los elementos pares\n",
        "rdd_filtrado = myRDD.filter(lambda x: x%2==0)\n",
        "print(rdd_filtrado.collect())"
      ]
    },
    {
      "cell_type": "code",
      "execution_count": 19,
      "metadata": {
        "colab": {
          "base_uri": "https://localhost:8080/"
        },
        "id": "EXY9xPzKyyWj",
        "outputId": "f0c5bd41-54c2-4cb0-8685-efe7b93c2b7e"
      },
      "outputs": [
        {
          "output_type": "stream",
          "name": "stdout",
          "text": [
            "[2, 4, 6, 1, 3, 5]\n"
          ]
        }
      ],
      "source": [
        "## Muestra los elementos unicos del RDD\n",
        "rdd_distinct = myRDD.distinct()\n",
        "print(rdd_distinct.collect())"
      ]
    },
    {
      "cell_type": "code",
      "source": [
        "from operator import add\n",
        "\n",
        "myRDD = sc.parallelize([('a', 1), ('a', 2), ('a', 3), ('b', 1)])"
      ],
      "metadata": {
        "id": "gTzSkfCF144O"
      },
      "execution_count": 27,
      "outputs": []
    },
    {
      "cell_type": "code",
      "source": [
        "## Obten la suma de los valores agrupados por el key\n",
        "output = myRDD.reduceByKey(lambda x, y : x + y)\n",
        "\n",
        "result = output.collect()\n",
        "print(*result, sep='\\n')"
      ],
      "metadata": {
        "colab": {
          "base_uri": "https://localhost:8080/"
        },
        "id": "eDs7kyVb17RR",
        "outputId": "bac01cf3-efe7-4f80-cf5d-517446ec021f"
      },
      "execution_count": 26,
      "outputs": [
        {
          "output_type": "stream",
          "name": "stdout",
          "text": [
            "('b', 1)\n",
            "('a', 6)\n"
          ]
        }
      ]
    },
    {
      "cell_type": "code",
      "execution_count": 29,
      "metadata": {
        "colab": {
          "base_uri": "https://localhost:8080/"
        },
        "id": "0jKgFJKTyyWl",
        "outputId": "0f8d0533-ab8c-47dd-cae3-a7a6e6cd981a"
      },
      "outputs": [
        {
          "output_type": "execute_result",
          "data": {
            "text/plain": [
              "[('a', 1), ('a', 2), ('a', 3), ('b', 1)]"
            ]
          },
          "metadata": {},
          "execution_count": 29
        }
      ],
      "source": [
        "##Ordena los RDDs en base al key\n",
        "newRDD= myRDD.sortByKey()\n",
        "newRDD.collect()"
      ]
    },
    {
      "cell_type": "code",
      "source": [
        "data= [1, 2, 3, 4, 5]\n",
        "\n",
        "myRDD= sc.parallelize(data)\n",
        "# Realiza una transformación: multiplica cada elemento por 2\n",
        "myRDD.reduce( lambda x, y: x * y)"
      ],
      "metadata": {
        "colab": {
          "base_uri": "https://localhost:8080/"
        },
        "id": "38iHrEJU4cRb",
        "outputId": "32248c22-388b-4a94-f848-79b9e300681d"
      },
      "execution_count": 37,
      "outputs": [
        {
          "output_type": "execute_result",
          "data": {
            "text/plain": [
              "120"
            ]
          },
          "metadata": {},
          "execution_count": 37
        }
      ]
    },
    {
      "cell_type": "code",
      "source": [
        "data= ['Python', 'Scala', 'Python', 'R', 'Python', 'Java', 'R' ]\n",
        "\n",
        "myRDD= sc.parallelize(data)\n",
        "\n",
        "## Cuenta cuantas veces aparece cada valor\n",
        "\n",
        "myRDD.countByValue().items()"
      ],
      "metadata": {
        "colab": {
          "base_uri": "https://localhost:8080/"
        },
        "id": "SK2cXQHd4BNR",
        "outputId": "05af1c8f-2831-4128-8d6e-be0293faf236"
      },
      "execution_count": 39,
      "outputs": [
        {
          "output_type": "execute_result",
          "data": {
            "text/plain": [
              "dict_items([('Python', 3), ('Scala', 1), ('R', 2), ('Java', 1)])"
            ]
          },
          "metadata": {},
          "execution_count": 39
        }
      ]
    },
    {
      "cell_type": "code",
      "source": [
        "data= [('a', 1), ('b', 1), ('c', 1), ('a', 1)]\n",
        "myRDD = sc.parallelize(data)\n",
        "\n",
        "## Cuenta cuantas veces aparece cada una de las keys\n",
        "\n",
        "myRDD.countByKey().items()"
      ],
      "metadata": {
        "colab": {
          "base_uri": "https://localhost:8080/"
        },
        "id": "1GUAwQkH5Zoq",
        "outputId": "daa271aa-68bc-474c-96da-84ca760b58a8"
      },
      "execution_count": 42,
      "outputs": [
        {
          "output_type": "execute_result",
          "data": {
            "text/plain": [
              "dict_items([('a', 2), ('b', 1), ('c', 1)])"
            ]
          },
          "metadata": {},
          "execution_count": 42
        }
      ]
    },
    {
      "cell_type": "code",
      "source": [
        "# Detén el contexto Spark\n",
        "sc.stop()"
      ],
      "metadata": {
        "id": "NaMs6HCl51e-"
      },
      "execution_count": 43,
      "outputs": []
    }
  ],
  "metadata": {
    "kernelspec": {
      "display_name": "bigdata",
      "language": "python",
      "name": "python3"
    },
    "language_info": {
      "codemirror_mode": {
        "name": "ipython",
        "version": 3
      },
      "file_extension": ".py",
      "mimetype": "text/x-python",
      "name": "python",
      "nbconvert_exporter": "python",
      "pygments_lexer": "ipython3",
      "version": "3.10.13"
    },
    "colab": {
      "provenance": []
    }
  },
  "nbformat": 4,
  "nbformat_minor": 0
}