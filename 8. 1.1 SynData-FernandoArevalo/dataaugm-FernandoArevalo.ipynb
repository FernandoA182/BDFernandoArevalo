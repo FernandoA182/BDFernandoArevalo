{
 "cells": [
  {
   "cell_type": "markdown",
   "metadata": {},
   "source": [
    "Fernando Arturo Arevalo Perez  \n",
    "Numero de Alumno: 323018942  \n",
    "8. 1.1 SynData"
   ]
  },
  {
   "cell_type": "markdown",
   "metadata": {},
   "source": [
    "* ! pip install imgaug"
   ]
  },
  {
   "cell_type": "code",
   "execution_count": 1,
   "metadata": {},
   "outputs": [],
   "source": [
    "#pip install imgaug"
   ]
  },
  {
   "cell_type": "code",
   "execution_count": 2,
   "metadata": {},
   "outputs": [],
   "source": [
    "import os\n",
    "from PIL import Image\n",
    "import imgaug.augmenters as iaa\n",
    "import imgaug as ia\n",
    "import numpy as np"
   ]
  },
  {
   "cell_type": "code",
   "execution_count": 3,
   "metadata": {},
   "outputs": [],
   "source": [
    "# Define la carpeta de origen y la carpeta de destino\n",
    "carpeta_origen = 'C:/Users/skimo/Documents/1. MCD2023B/1.Semestre/3.PGBD/7. Notebebooks-20231129T010406Z-001/7. Notebebooks\\FernandoArevalo/8. 1.1 SynData-FernandoArevalo/data/data/mias-mammography/all-mias-roi' # Cambia 'ruta_carpeta_mias' a la ruta de tu carpeta de origen\n",
    "carpeta_destino = 'C:/Users/skimo/Documents/1. MCD2023B/1.Semestre/3.PGBD/7. Notebebooks-20231129T010406Z-001/7. Notebebooks\\FernandoArevalo/8. 1.1 SynData-FernandoArevalo/data/data/mias-mammography/all-mias-roi-jpg' # Cambia 'ruta_carpeta_destino' a la ruta de tu carpeta de destino"
   ]
  },
  {
   "cell_type": "code",
   "execution_count": 4,
   "metadata": {},
   "outputs": [],
   "source": [
    "# Define las técnicas de aumento de datos\n",
    "seq = iaa.Sequential([\n",
    "    iaa.Fliplr(0.5), # Voltea horizontalmente el 50% de las imágenes\n",
    "    iaa.GaussianBlur(sigma=(0, 1.0)), # Aplica un desenfoque gaussiano con una sigma entre 0 y 1.0\n",
    "    iaa.Affine(scale=(0.8, 1.2)) # Escala las imágenes entre un 80% y 120% de su tamaño original\n",
    "])"
   ]
  },
  {
   "cell_type": "code",
   "execution_count": 6,
   "metadata": {},
   "outputs": [
    {
     "name": "stdout",
     "output_type": "stream",
     "text": [
      "Conversión y aumento de datos completado.\n"
     ]
    }
   ],
   "source": [
    "for nombre_archivo in os.listdir(carpeta_origen):\n",
    "    if nombre_archivo.endswith('.pgm'):\n",
    "        ruta_archivo_origen = os.path.join(carpeta_origen, nombre_archivo)\n",
    "        imagen = Image.open(ruta_archivo_origen)\n",
    "        \n",
    "        # Convierte la imagen a RGB (necesario para guardar como .jpg y para la biblioteca imgaug)\n",
    "        imagen_rgb = imagen.convert('RGB')\n",
    "        \n",
    "        # Aplica las técnicas de aumento de datos\n",
    "        imagen_augmentada = seq.augment_image(np.array(imagen_rgb))\n",
    "        \n",
    "        # Convierte la imagen aumentada nuevamente a formato de PIL\n",
    "        imagen_final = Image.fromarray(imagen_augmentada)\n",
    "        \n",
    "        # Guarda la imagen convertida y aumentada en la carpeta de destino\n",
    "        nombre_destino = nombre_archivo.replace('.pgm', '_augmented.jpg')\n",
    "        ruta_archivo_destino = os.path.join(carpeta_destino, nombre_destino)\n",
    "        imagen_final.save(ruta_archivo_destino, 'JPEG')\n",
    "\n",
    "print(\"Conversión y aumento de datos completado.\")"
   ]
  }
 ],
 "metadata": {
  "kernelspec": {
   "display_name": "syndata",
   "language": "python",
   "name": "python3"
  },
  "language_info": {
   "codemirror_mode": {
    "name": "ipython",
    "version": 3
   },
   "file_extension": ".py",
   "mimetype": "text/x-python",
   "name": "python",
   "nbconvert_exporter": "python",
   "pygments_lexer": "ipython3",
   "version": "3.10.13"
  }
 },
 "nbformat": 4,
 "nbformat_minor": 2
}
